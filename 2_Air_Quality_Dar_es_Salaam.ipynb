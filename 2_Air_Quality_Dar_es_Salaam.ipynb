{
 "cells": [
  {
   "cell_type": "code",
   "execution_count": 1,
   "id": "23f9de1d-cd9d-428c-8208-3730f7dea3e5",
   "metadata": {},
   "outputs": [],
   "source": [
    "# Import Librariesimport inspect\n",
    "import time\n",
    "from pprint import PrettyPrinter\n",
    "import matplotlib.pyplot as plt\n",
    "import pandas as pd\n",
    "import plotly.express as px\n",
    "import seaborn as sns\n",
    "from pymongo import MongoClient\n",
    "import pytz\n",
    "from statsmodels.tsa.ar_model import AutoReg\n",
    "from sklearn.linear_model import LinearRegression\n",
    "from sklearn.metrics import mean_absolute_error\n",
    "from statsmodels.graphics.tsaplots import plot_acf, plot_pacf\n",
    "from statsmodels.tsa.arima.model import ARIMA"
   ]
  },
  {
   "cell_type": "markdown",
   "id": "2bf020ad-316c-4f8a-b011-35bd4ef879f7",
   "metadata": {},
   "source": [
    "# Prepare Data"
   ]
  },
  {
   "cell_type": "markdown",
   "id": "b5189a65-c9d6-41de-862c-e3ab189e43a6",
   "metadata": {},
   "source": [
    "## Connect"
   ]
  },
  {
   "cell_type": "code",
   "execution_count": null,
   "id": "5bcb933e-e185-4772-b87d-b3dfa519d9ba",
   "metadata": {},
   "outputs": [],
   "source": [
    "# Connect to server\n",
    "client = MongoClient(host=<\"hostName\">, port=<portNum>)\n",
    "\n",
    "# Connect to database\n",
    "db = client[<\"databaseName\">]\n",
    "\n",
    "# Get collection\n",
    "dar = db[<\"collectionName\">]"
   ]
  },
  {
   "cell_type": "markdown",
   "id": "b3e93a88-d88a-4822-9238-da9a024c8a42",
   "metadata": {},
   "source": [
    "## Explore"
   ]
  },
  {
   "cell_type": "code",
   "execution_count": null,
   "id": "3029f97d-d9c1-47a3-8c54-459c1864361c",
   "metadata": {},
   "outputs": [],
   "source": [
    "# Determine no. of sites in collection\n",
    "sites = dar.distinct(\"metadata.site\")     # dar ---> variable holding collection\n",
    "sites\n",
    "\n",
    "# Sample output\n",
    "[11, 23]"
   ]
  },
  {
   "cell_type": "code",
   "execution_count": null,
   "id": "913d7484-3a35-43ea-8661-6909debdf507",
   "metadata": {},
   "outputs": [],
   "source": [
    "# Determing which collection has the most sensor readings using aggregate\n",
    "result = dar.aggregate(\n",
    "    [\n",
    "        {\"$group\": {\"_id\": \"$metadata.site\", \"count\": {\"$count\":{}}}}\n",
    "    ]\n",
    ")\n",
    "readings_per_site = list(result)\n",
    "readings_per_site\n",
    "\n",
    "# Sample output\n",
    "[{'_id': 11, 'count': 173242}, {'_id': 23, 'count': 60020}]"
   ]
  },
  {
   "cell_type": "markdown",
   "id": "04d8459a-af08-489f-bd41-b15911fae80d",
   "metadata": {},
   "source": [
    "## Import"
   ]
  },
  {
   "cell_type": "code",
   "execution_count": null,
   "id": "f9ae5bf6-8993-4f5f-86c1-78e3f8a095d7",
   "metadata": {},
   "outputs": [],
   "source": [
    "# Wrangle function\n",
    "# Extract PM2.5 readings from collection site with the most readings\n",
    "# Localize time\n",
    "# Remove outliers\n",
    "# Resample data to provide PM2.5 readings for each hour\n",
    "# impute missing values\n",
    "# return series\n",
    "\n",
    "def wrangle(collection):\n",
    "    results = collection.find(\n",
    "        {\"metadata.site\": 11, \"metadata.measurement\": \"P2\"},\n",
    "        projection={\"P2\": 1, \"timestamp\": 1, \"_id\": 0},\n",
    "    )\n",
    "\n",
    "    # Read data into DataFrame\n",
    "    df = pd.DataFrame(results).set_index(\"timestamp\")\n",
    "\n",
    "    # Localize timezone\n",
    "    df.index = df.index.tz_localize(\"UTC\").tz_convert(\"Africa/Dar_es_Salaam\")\n",
    "\n",
    "    # Remove outliers\n",
    "    df = df[df[\"P2\"] < 100]\n",
    "\n",
    "    # Resample to 1hr window\n",
    "    y = df[\"P2\"].resample(\"1H\").mean().fillna(method='ffill')\n",
    "\n",
    "    return y\n",
    "  \n",
    "# Using wrangle()\n",
    "y = wrangle(dar)\n",
    "y.head()\n",
    "\n",
    "# sample output\n",
    "timestamp\n",
    "2018-01-01 03:00:00+03:00    9.456327\n",
    "2018-01-01 04:00:00+03:00    9.400833\n",
    "2018-01-01 05:00:00+03:00    9.331458\n",
    "2018-01-01 06:00:00+03:00    9.528776\n",
    "2018-01-01 07:00:00+03:00    8.861250\n",
    "Freq: H, Name: P2, dtype: float64"
   ]
  },
  {
   "cell_type": "markdown",
   "id": "adb8fa86-3e2a-4f72-9077-86e480968fce",
   "metadata": {},
   "source": [
    "## Explore Cont. "
   ]
  },
  {
   "cell_type": "code",
   "execution_count": null,
   "id": "20de26c7-51f6-4063-aae0-bd9a319bf2b4",
   "metadata": {},
   "outputs": [],
   "source": [
    "fig, ax = plt.subplots(figsize=(15, 6))\n",
    "y.plot(xlabel=\"Date\", ylabel=\"PM2.5 Level\", title=\"Dar es Salaam PM2.5 Levels\", ax=ax);\n",
    "\n",
    "# sample output: see Figure 2.1 Time Series Plot"
   ]
  },
  {
   "cell_type": "markdown",
   "id": "e0f99c15-b012-41f8-a709-d4c329b585cd",
   "metadata": {},
   "source": [
    "Insights:"
   ]
  },
  {
   "cell_type": "code",
   "execution_count": null,
   "id": "cff0145b-3ce9-4b32-b9e1-e0562817cb69",
   "metadata": {},
   "outputs": [],
   "source": [
    "fig, ax = plt.subplots(figsize=(15, 6))\n",
    "y.rolling(168).mean().plot(ax=ax, xlabel=\"Date\", ylabel=\"PM2.5 Level\", title=\"Dar es Salaam PM2.5 Levels, 7-Day Rolling Average\");\n",
    "# --> 168 == number of hours in a week\n",
    "\n",
    "# sample output: see Figure 2.2 Rolling Average "
   ]
  },
  {
   "cell_type": "markdown",
   "id": "b005bfa0-d199-4295-80e6-2b94f3979ae6",
   "metadata": {},
   "source": [
    "Insights: "
   ]
  },
  {
   "cell_type": "code",
   "execution_count": null,
   "id": "db30ac4c-c668-4565-8b37-2c0c15694dea",
   "metadata": {},
   "outputs": [],
   "source": [
    "fig, ax = plt.subplots(figsize=(15, 6))\n",
    "plot_acf(y, ax=ax)\n",
    "plt.xlabel(<\"xLabelvalue\">)\n",
    "plt.ylabel(<\"yLabelvalue\">)\n",
    "plt.title(<\"yourTitle\">);\n",
    "\n",
    "# sample output: see Figure 2.3 ACF Plot"
   ]
  },
  {
   "cell_type": "markdown",
   "id": "cd4baf87-cd92-4d29-8534-0ae9ff1eb639",
   "metadata": {},
   "source": [
    "Insights:"
   ]
  },
  {
   "cell_type": "code",
   "execution_count": null,
   "id": "06a84bcd-fd6d-42ed-8302-897674b38652",
   "metadata": {},
   "outputs": [],
   "source": [
    "fig, ax = plt.subplots(figsize=(15, 6))\n",
    "plot_pacf(y, ax=ax)\n",
    "plt.xlabel(\"Lag [hours]\")\n",
    "plt.ylabel(\"Correlation Coefficient\")\n",
    "plt.title(\"Dar es Salaam PM2.5 Readings, PACF\");\n",
    "\n",
    "# sample output: see Figure 2.4 PACF Plot"
   ]
  },
  {
   "cell_type": "markdown",
   "id": "27e1734f-38c3-44de-a0e4-1ceb7c3a43af",
   "metadata": {},
   "source": [
    "Insights:"
   ]
  },
  {
   "cell_type": "markdown",
   "id": "4c33b68f-74c3-414a-8e1f-34f74f137eab",
   "metadata": {},
   "source": [
    "## Split"
   ]
  },
  {
   "cell_type": "code",
   "execution_count": null,
   "id": "518d5f62-ef19-4c9c-a565-6b2dddfd6502",
   "metadata": {},
   "outputs": [],
   "source": [
    "# percentage ---> 90% (0.9), 80% (0.8) ...\n",
    "cutoff_test = int(len(y) * 0.9)\n",
    "y_train = y.iloc[:cutoff_test]\n",
    "y_test = y.iloc[cutoff_test:]\n",
    "print(\"y_train shape:\", y_train.shape)\n",
    "print(\"y_test shape:\", y_test.shape)\n",
    "\n",
    "# sample output\n",
    "y_train shape: (1944,)\n",
    "y_test shape: (216,)"
   ]
  },
  {
   "cell_type": "markdown",
   "id": "a292b599-90c1-422e-8a65-31d5dd31e395",
   "metadata": {},
   "source": [
    "# Build Model"
   ]
  },
  {
   "cell_type": "markdown",
   "id": "e217687d-a2ab-4956-8f88-e2eae61e3ac8",
   "metadata": {},
   "source": [
    "## Baseline"
   ]
  },
  {
   "cell_type": "code",
   "execution_count": null,
   "id": "6e6608f9-0d8b-48b5-b17a-e86802accd8a",
   "metadata": {},
   "outputs": [],
   "source": [
    "y_train_mean = y_train.mean()\n",
    "y_pred_baseline = [y_train_mean] * len(y_train)\n",
    "mae_baseline = mean_absolute_error(y_train, y_pred_baseline)\n",
    "\n",
    "print(\"Mean P2 Reading:\", y_train_mean)\n",
    "print(\"Baseline MAE:\", mae_baseline)\n",
    "\n",
    "# sample output\n",
    "Mean P2 Reading: 8.57142319061077\n",
    "Baseline MAE: 4.053101181299159"
   ]
  },
  {
   "cell_type": "markdown",
   "id": "55c6f4fb-538a-42be-b8a4-7bcc6927c463",
   "metadata": {},
   "source": [
    "## Iterate"
   ]
  },
  {
   "cell_type": "code",
   "execution_count": null,
   "id": "3a7b00b7-1700-41f9-b88c-66e4ead5384d",
   "metadata": {},
   "outputs": [],
   "source": [
    "# Use AR model to predict PM2.5 readings\n",
    "# Hyperparameter --> p\n",
    "\n",
    "# Create range to test different lags\n",
    "p_params = range(1, 31)\n",
    "\n",
    "# Create empty list to hold mean absolute error scores\n",
    "maes = []\n",
    "\n",
    "# Iterate through all values of p in `p_params`\n",
    "for p in p_params:\n",
    "    # Build model\n",
    "    model = AutoReg(y_train, lags=p).fit()\n",
    "\n",
    "    # Make predictions on training data, dropping null values caused by lag\n",
    "    y_pred = model.predict().dropna()\n",
    "\n",
    "    # Calculate mean absolute error for training data vs predictions\n",
    "    mae = mean_absolute_error(y_train.iloc[p:], y_pred)\n",
    "\n",
    "    # Append `mae` to list `maes`\n",
    "    maes.append(mae)\n",
    "\n",
    "# Put list `maes` into Series with index `p_params`\n",
    "mae_series = pd.Series(maes, name=\"mae\", index=p_params)\n",
    "\n",
    "# Inspect head of Series\n",
    "mae_series.head()\n",
    "\n",
    "# sample output\n",
    "1    1.059376\n",
    "2    1.045182\n",
    "3    1.032489\n",
    "4    1.032147\n",
    "5    1.031022\n",
    "Name: mae, dtype: float64"
   ]
  },
  {
   "cell_type": "code",
   "execution_count": null,
   "id": "dabcc2b0-c33d-4898-8277-0d28316029b4",
   "metadata": {},
   "outputs": [],
   "source": [
    "# Getting the mae_series to determine the best p that provides best performance\n",
    "mae_series\n",
    "\n",
    "# sample output\n",
    "1     1.059376\n",
    "2     1.045182\n",
    "3     1.032489\n",
    "4     1.032147\n",
    "5     1.031022\n",
    "6     1.026948\n",
    "7     1.023510\n",
    "8     1.022944\n",
    "9     1.022321\n",
    "10    1.022058\n",
    "11    1.018001\n",
    "12    1.018568\n",
    "13    1.019006\n",
    "14    1.018080\n",
    "15    1.018818\n",
    "16    1.021036\n",
    "17    1.021398\n",
    "18    1.021820\n",
    "19    1.020472\n",
    "20    1.019727\n",
    "21    1.017981\n",
    "22    1.017824\n",
    "23    1.014569\n",
    "24    1.013427\n",
    "25    1.010657\n",
    "26    1.010285\n",
    "27    1.010619\n",
    "28    1.010287\n",
    "29    1.012046\n",
    "30    1.016535\n",
    "Name: mae, dtype: float64\n",
    "\n",
    "best_p = 28\n",
    "best_model = AutoReg(y_train, lags=best_p).fit()"
   ]
  },
  {
   "cell_type": "code",
   "execution_count": null,
   "id": "e6b3964e-0517-4489-8043-b564488f30f3",
   "metadata": {},
   "outputs": [],
   "source": [
    "# Build and train the model\n",
    "best_model = AutoReg(y_train, lags=best_p).fit()"
   ]
  },
  {
   "cell_type": "code",
   "execution_count": null,
   "id": "ad3b7c94-cede-435f-8642-9b302b5ee2a8",
   "metadata": {},
   "outputs": [],
   "source": [
    "# calculate training residuals for best_model\n",
    "y_train_resid = best_model.resid\n",
    "y_train_resid.name = \"residuals\"\n",
    "y_train_resid.head()\n",
    "\n",
    "# sample output\n",
    "timestamp\n",
    "2018-01-02 07:00:00+03:00    1.674228\n",
    "2018-01-02 08:00:00+03:00   -0.372994\n",
    "2018-01-02 09:00:00+03:00   -0.535203\n",
    "2018-01-02 10:00:00+03:00   -2.210960\n",
    "2018-01-02 11:00:00+03:00    0.145636\n",
    "Freq: H, Name: residuals, dtype: float64"
   ]
  },
  {
   "cell_type": "code",
   "execution_count": null,
   "id": "6465209b-076d-4f2c-abf9-9e741b2a01ff",
   "metadata": {},
   "outputs": [],
   "source": [
    "# Histogram of residuals\n",
    "y_train_resid.hist()\n",
    "plt.xlabel=\"Residuals\"\n",
    "plt.ylabel=\"Frequency\"\n",
    "plt.title=\"Best Model, Training Residuals\";\n",
    "\n",
    "# sample output: see Figure 2.5 Residuals Histogram "
   ]
  },
  {
   "cell_type": "markdown",
   "id": "d0c6e247-a7be-48f6-bf4c-d2ba1289958b",
   "metadata": {},
   "source": [
    "Insights:"
   ]
  },
  {
   "cell_type": "code",
   "execution_count": null,
   "id": "2adbd3bc-2f8b-4048-9a71-266b8d56e9fb",
   "metadata": {},
   "outputs": [],
   "source": [
    "# ACF Plot of residuals \n",
    "fig, ax = plt.subplots(figsize=(15, 6))\n",
    "plot_acf(y_train_resid, ax=ax)\n",
    "ax.set_xlabel(\"Lag [hours]\")\n",
    "ax.set_ylabel(\"Correlation Coefficient\")\n",
    "ax.set_title(\"Dar es Salaam, Training Residuals ACF\");\n",
    "\n",
    "# sample output: see Figure 2.6 Residuals ACF Plot "
   ]
  },
  {
   "cell_type": "markdown",
   "id": "5f3a6080-45f7-464d-9524-b9057677a70f",
   "metadata": {},
   "source": [
    "Insights:"
   ]
  },
  {
   "cell_type": "markdown",
   "id": "f55fc509-f760-4f39-9557-d9cad53ec722",
   "metadata": {},
   "source": [
    "## Evaluate"
   ]
  },
  {
   "cell_type": "code",
   "execution_count": null,
   "id": "a6315583-cb4b-412e-93f3-ffb212cce07d",
   "metadata": {},
   "outputs": [],
   "source": [
    "# walk-forward validation for model for test data --> y_test\n",
    "# predictions stored in series: y_pred_wfv\n",
    "y_pred_wfv = pd.Series()\n",
    "history = y_train.copy()\n",
    "for i in range(len(y_test)):\n",
    "    model = AutoReg(history, lags=best_p).fit()\n",
    "    next_pred = model.forecast()      # next value after end of history\n",
    "    y_pred_wfv = y_pred_wfv.append(next_pred)\n",
    "    history = history.append(y_test[next_pred.index])\n",
    "    \n",
    "y_pred_wfv.name = \"prediction\"\n",
    "y_pred_wfv.index.name = \"timestamp\"\n",
    "y_pred_wfv.head()\n",
    "\n",
    "# sample output\n",
    "timestamp\n",
    "2018-03-23 03:00:00+03:00    10.383307\n",
    "2018-03-23 04:00:00+03:00     8.268941\n",
    "2018-03-23 05:00:00+03:00    15.172779\n",
    "2018-03-23 06:00:00+03:00    33.480666\n",
    "2018-03-23 07:00:00+03:00    39.576329\n",
    "Freq: H, Name: prediction, dtype: float64"
   ]
  },
  {
   "cell_type": "markdown",
   "id": "e9ded129-c517-4012-a240-87e3a44449f6",
   "metadata": {},
   "source": [
    "# Communicate Results"
   ]
  },
  {
   "cell_type": "code",
   "execution_count": null,
   "id": "425507e2-2f94-46c0-8478-97de7f2e043d",
   "metadata": {},
   "outputs": [],
   "source": [
    "# Put test and walk-forward validation values\n",
    "# in a dataframe and plot df\n",
    "df_pred_test = pd.DataFrame(\n",
    "    {\"y_test\": y_test, \"y_pred_wfv\": y_pred_wfv}\n",
    ")\n",
    "fig = px.line(df_pred_test, labels={\"value\": \"PM2.5\"})\n",
    "fig.update_layout(\n",
    "    title=\"Dar es Salaam, WFV Predictions\",\n",
    "    xaxis_title=\"Date\",\n",
    "    yaxis_title=\"PM2.5 Level\",\n",
    ")\n",
    "\n",
    "fig.show()\n",
    "\n",
    "# sample output: see Figure 2.7 WFV Line Graph"
   ]
  }
 ],
 "metadata": {
  "kernelspec": {
   "display_name": "Python 3 (ipykernel)",
   "language": "python",
   "name": "python3"
  },
  "language_info": {
   "codemirror_mode": {
    "name": "ipython",
    "version": 3
   },
   "file_extension": ".py",
   "mimetype": "text/x-python",
   "name": "python",
   "nbconvert_exporter": "python",
   "pygments_lexer": "ipython3",
   "version": "3.9.7"
  }
 },
 "nbformat": 4,
 "nbformat_minor": 5
}
