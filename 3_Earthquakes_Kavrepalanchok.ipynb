{
 "cells": [
  {
   "cell_type": "markdown",
   "id": "44385b2d-3cae-46e3-ada8-8e718def763a",
   "metadata": {},
   "source": [
    "# Prediciting Building Damage in Kavrepalanchok"
   ]
  },
  {
   "cell_type": "code",
   "execution_count": null,
   "id": "4d83a6f0-db8a-44d2-8569-211b8f62aacb",
   "metadata": {},
   "outputs": [],
   "source": [
    "# Import Librairies\n",
    "import warnings\n",
    "import sqlite3\n",
    "import matplotlib.pyplot as plt\n",
    "import seaborn as sns\n",
    "import numpy as np\n",
    "import pandas as pd\n",
    "from category_encoders import OneHotEncoder\n",
    "from category_encoders import OrdinalEncoder\n",
    "from sklearn.linear_model import LogisticRegression\n",
    "from sklearn.metrics import accuracy_score\n",
    "from sklearn.model_selection import train_test_split\n",
    "from sklearn.pipeline import Pipeline, make_pipeline\n",
    "from sklearn.tree import DecisionTreeClassifier, plot_tree"
   ]
  },
  {
   "cell_type": "markdown",
   "id": "d00f56bd-3ddc-491e-a4bd-63c293910870",
   "metadata": {},
   "source": [
    "## Prepare data"
   ]
  },
  {
   "cell_type": "markdown",
   "id": "5d45b615-3bdd-4c89-b934-c9952086da4c",
   "metadata": {},
   "source": [
    "### Connect"
   ]
  },
  {
   "cell_type": "code",
   "execution_count": null,
   "id": "b4f8f7a8-387d-403a-9368-e0b56b7e3f52",
   "metadata": {},
   "outputs": [],
   "source": [
    "%load_ext sql\n",
    "%sql sqlite:////home/jovyan/<fileName e.g nepal>.sqlite\n",
    "\n",
    "# sample output\n",
    "'Connected: @/home/jovyan/nepal.sqlite'"
   ]
  },
  {
   "cell_type": "code",
   "execution_count": null,
   "id": "69f974de-12c0-47d3-ae24-d9fdd7e2546b",
   "metadata": {},
   "outputs": [],
   "source": [
    "# Get districts that are represented in the id_map table\n",
    "%%sql\n",
    "SELECT distinct district_id\n",
    "FROM id_map\n",
    "LIMIT 5\n",
    "\n",
    "# sample output \n",
    "Running query in 'sqlite:////home/jovyan/nepal.sqlite'\n",
    "district_id\n",
    "1\n",
    "2\n",
    "3\n",
    "4"
   ]
  },
  {
   "cell_type": "code",
   "execution_count": null,
   "id": "cf1b1ec4-91eb-4372-a7a2-54e2cb566f72",
   "metadata": {},
   "outputs": [],
   "source": [
    "# Get number of observations in table id_map for district 3\n",
    "%%sql\n",
    "SELECT count(*)\n",
    "FROM id_map\n",
    "WHERE district_id = 3\n",
    "\n",
    "# sample output\n",
    "Running query in 'sqlite:////home/jovyan/nepal.sqlite'\n",
    "count(*)\n",
    "82684"
   ]
  },
  {
   "cell_type": "code",
   "execution_count": null,
   "id": "051cdd02-407a-4f8f-9d77-c42084faa96e",
   "metadata": {},
   "outputs": [],
   "source": [
    "%%sql\n",
    "# joining tables at columns building_id\n",
    "SELECT distinct(i.building_id) AS b_id,   # building_id column of table i aliased as b_id\n",
    "     s.*,     # selects all columns of table s\n",
    "     d.damage_grade   # select damage_grade column of table d\n",
    "FROM id_map AS i\n",
    "JOIN building_structure AS s ON i.building_id = s.building_id\n",
    "JOIN building_damage AS d ON i.building_id = d.building_id\n",
    "WHERE district_id = 3\n",
    "LIMIT 5\n",
    "\n",
    "# sample output: refer to Figure 3.1 "
   ]
  },
  {
   "cell_type": "markdown",
   "id": "cce53a52-ab0e-4871-813a-f98785158a22",
   "metadata": {},
   "source": [
    "### Import"
   ]
  },
  {
   "cell_type": "code",
   "execution_count": null,
   "id": "26092937-8794-4bce-84ed-3a96c9d9162c",
   "metadata": {},
   "outputs": [],
   "source": [
    "def wrangle(db_path):\n",
    "    # Connect to database using connect method\n",
    "    conn = sqlite3.connect(db_path)\n",
    "\n",
    "    # Construct query\n",
    "    query = \"\"\"\n",
    "        SELECT distinct(i.building_id) AS b_id,\n",
    "           s.*,\n",
    "           d.damage_grade\n",
    "        FROM id_map AS i\n",
    "        JOIN building_structure AS s ON i.building_id = s.building_id\n",
    "        JOIN building_damage AS d ON i.building_id = d.building_id\n",
    "        WHERE district_id = 3\n",
    "    \"\"\"\n",
    "\n",
    "    # Read query results into DataFrame\n",
    "    df = pd.read_sql(query, conn, index_col=\"b_id\")\n",
    "\n",
    "    # Identify leaky columns\n",
    "    drop_cols = [col for col in df.columns if \"post_eq\" in col]\n",
    "    \n",
    "    # Create binary target\n",
    "    df[\"damage_grade\"] = df[\"damage_grade\"].str[-1].astype(int)\n",
    "    df[\"severe_damage\"] = (df[\"damage_grade\"] > 3).astype(int)    # encode as 0's and 1's\n",
    "    \n",
    "    # Drop old target\n",
    "    drop_cols.append(\"damage_grade\")\n",
    "    \n",
    "    # Drop multicolinearity column\n",
    "    drop_cols.append(\"count_floors_pre_eq\")\n",
    "    \n",
    "    # Drop high categorical features\n",
    "    drop_cols.append(\"building_id\")\n",
    "    \n",
    "    # Drop columns\n",
    "    df.drop(columns=drop_cols, inplace=True)\n",
    "    \n",
    "    \n",
    "    return df"
   ]
  },
  {
   "cell_type": "code",
   "execution_count": null,
   "id": "a78eb394-e36e-43ef-8d76-97374a4429f9",
   "metadata": {},
   "outputs": [],
   "source": [
    "# Using wrangle func\n",
    "df = wrangle(\"/home/jovyan/nepal.sqlite\")\n",
    "df.head()\n",
    "\n",
    "# sample output: refer to figure 3.2"
   ]
  },
  {
   "cell_type": "markdown",
   "id": "5b2b2694-e8e9-42c8-84c2-fac4d2dbe7ea",
   "metadata": {},
   "source": [
    "### Explore"
   ]
  },
  {
   "cell_type": "code",
   "execution_count": null,
   "id": "57d5c4ef-e5f1-46bc-be2c-8d27701592ee",
   "metadata": {},
   "outputs": [],
   "source": [
    "# Check to see if dataset is balanced \n",
    "# Plot value counts of `\"severe_damage\"`\n",
    "df[\"severe_damage\"].value_counts(normalize=True).plot(\n",
    "    kind=\"bar\", xlabel=\"class\", ylabel=\"rel freq\", title=\"class bal\")\n",
    "\n",
    "# sample output: refer to figure 3.3\n",
    "# Insights"
   ]
  },
  {
   "cell_type": "code",
   "execution_count": null,
   "id": "649b750c-f8e9-4e1d-8355-417cbf004c4a",
   "metadata": {},
   "outputs": [],
   "source": [
    "# Check to see if there a relationship between the footprint size of a building and the damage it sustained in the earthquake\n",
    "sns.boxplot(x=\"severe_damage\", y=\"plinth_area_sq_ft\", data=df)\n",
    "# Label axes\n",
    "plt.xlabel(\"Severe Damage\")\n",
    "plt.ylabel(\"Plinth Area [sq. ft.]\")\n",
    "plt.title(\"Kavrepalanchok, Plinth Area vs Building Damage\");\n",
    "\n",
    "# sample output: refer to figure 3.4\n",
    "# Insights"
   ]
  },
  {
   "cell_type": "code",
   "execution_count": null,
   "id": "5a38448f-04a0-4ee7-8bcf-992281ecff7e",
   "metadata": {},
   "outputs": [],
   "source": [
    "# Check to see if buildings with certain roof types more likely to suffer severe damage\n",
    "roof_pivot = pd.pivot_table(\n",
    "    df, index=\"roof_type\", values=\"severe_damage\", aggfunc=np.mean    # roof_type: column in table\n",
    ").sort_values(by=\"severe_damage\")\n",
    "roof_pivot\n",
    "\n",
    "# sample output: refer to figure 3.5\n",
    "# Insights"
   ]
  },
  {
   "cell_type": "markdown",
   "id": "77f9f841-f394-4dfc-b402-318de73a011c",
   "metadata": {},
   "source": [
    "### Split"
   ]
  },
  {
   "cell_type": "code",
   "execution_count": null,
   "id": "8e32aff4-8766-47b5-86a2-0723cb70c597",
   "metadata": {},
   "outputs": [],
   "source": [
    "# Vertical Split\n",
    "target = \"severe_damage\"\n",
    "X = df.drop(columns=target) # feature matrix: all columns apart from severe_damage\n",
    "y = df[target]\n",
    "print(\"X shape:\", X.shape)\n",
    "print(\"y shape:\", y.shape)\n",
    "\n",
    "# sample output:\n",
    "X shape: (76533, 11)\n",
    "y shape: (76533,)"
   ]
  },
  {
   "cell_type": "code",
   "execution_count": null,
   "id": "aa254e21-524e-41c4-a585-be1802df0df4",
   "metadata": {},
   "outputs": [],
   "source": [
    "#Horizontal Split\n",
    "X_train, X_val, y_train, y_val = train_test_split(\n",
    "    X, y, test_size=0.2, random_state=42\n",
    ")\n",
    "print(\"X_train shape:\", X_train.shape)\n",
    "print(\"y_train shape:\", y_train.shape)\n",
    "print(\"X_val shape:\", X_val.shape)\n",
    "print(\"y_val shape:\", y_val.shape)\n",
    "\n",
    "# sample output:\n",
    "X_train shape: (61226, 11)\n",
    "y_train shape: (61226,)\n",
    "X_val shape: (15307, 11)\n",
    "y_val shape: (15307,)"
   ]
  },
  {
   "cell_type": "markdown",
   "id": "66553f59-a61d-46fd-93be-e2946d277ac9",
   "metadata": {},
   "source": [
    "## Build Model"
   ]
  },
  {
   "cell_type": "markdown",
   "id": "1d4a603b-d5c3-444b-bf88-9bcded6b0e3d",
   "metadata": {},
   "source": [
    "### Baseline"
   ]
  },
  {
   "cell_type": "code",
   "execution_count": null,
   "id": "8eeef44a-09dc-4600-90ca-2e64b9249ac8",
   "metadata": {},
   "outputs": [],
   "source": [
    "acc_baseline = y_train.value_counts(normalize=True).max()\n",
    "print(\"Baseline Accuracy:\", round(acc_baseline, 2))\n",
    "\n",
    "# sample output:\n",
    "Baseline Accuracy: 0.55"
   ]
  },
  {
   "cell_type": "markdown",
   "id": "b2118c26-8010-464c-9e5f-c0175a3e96f0",
   "metadata": {},
   "source": [
    "### Iterate"
   ]
  },
  {
   "cell_type": "code",
   "execution_count": null,
   "id": "a6db3dfc-c2e2-48eb-b1ba-56837f07cc22",
   "metadata": {},
   "outputs": [],
   "source": [
    "model_lr = make_pipeline(\n",
    "    OneHotEncoder(use_cat_names=True),\n",
    "    LogisticRegression(max_iter=<1000-3000) # max_iter: varies: suppresses the 'ConvergenceWarning'\n",
    ")\n",
    "# Fit model to training data\n",
    "model_lr.fit(X_train, y_train)"
   ]
  },
  {
   "cell_type": "code",
   "execution_count": null,
   "id": "011aaf50-ae3a-4a51-9ec0-88b93fae4db5",
   "metadata": {},
   "outputs": [],
   "source": [
    "# model_lr training and validation accuracy scores \n",
    "lr_train_acc = accuracy_score(y_train, model_lr.predict(X_train))\n",
    "lr_val_acc = model_lr.score(X_val, y_val)\n",
    "\n",
    "print(\"Logistic Regression, Training Accuracy Score:\", lr_train_acc)\n",
    "print(\"Logistic Regression, Validation Accuracy Score:\", lr_val_acc)\n",
    "\n",
    "sample output:\n",
    "Logistic Regression, Training Accuracy Score: 0.6515720702327481\n",
    "Logistic Regression, Validation Accuracy Score: 0.649436550710436"
   ]
  },
  {
   "cell_type": "code",
   "execution_count": null,
   "id": "b60b4863-1cdb-43b7-99c9-cc43636fbe0c",
   "metadata": {},
   "outputs": [],
   "source": [
    "# Testing to seeing if a decision tree model will perform better than logistic regression\n",
    "depth_hyperparams = range(1, 16)\n",
    "training_acc = []\n",
    "validation_acc = []\n",
    "# Trains and eval the model model_dt at all depths from 1 to 15 to find the best hyperparameter value for max_depth\n",
    "for d in depth_hyperparams:\n",
    "    model_dt = make_pipeline(\n",
    "        OrdinalEncoder(), \n",
    "        DecisionTreeClassifier(max_depth= d, random_state=42)\n",
    "    )\n",
    "    model_dt.fit(X_train, y_train) # Fit model to training data\n",
    "    \n",
    "    # Calculate training accuracy score and append to `training_acc`\n",
    "    training_acc.append(model_dt.score(X_train, y_train))\n",
    "    # Calculate validation accuracy score and append to `training_acc`\n",
    "    validation_acc.append(model_dt.score(X_val, y_val))\n",
    "    \n",
    "print(\"Training Accuracy Scores:\", training_acc[:6])\n",
    "print(\"Validation Accuracy Scores:\", validation_acc[:6])\n",
    "\n",
    "# sample output:\n",
    "Training Accuracy Scores: [0.6303041191650606, 0.6303041191650606, 0.642292490118577, 0.653529546271192, 0.6543951915852743, 0.6576617776761506]\n",
    "Validation Accuracy Scores: [0.6350035931273273, 0.6350035931273273, 0.6453909975828053, 0.6527732410008493, 0.6529039001763899, 0.6584569151368654]    "
   ]
  },
  {
   "cell_type": "code",
   "execution_count": null,
   "id": "4ca258ff-8393-4d5b-a34b-6fbb8f721e34",
   "metadata": {},
   "outputs": [],
   "source": [
    "# Validation curve\n",
    "plt.plot(depth_hyperparams, training_acc, label=\"Training\")\n",
    "plt.plot(depth_hyperparams, validation_acc, label=\"validation\")\n",
    "plt.xlabel(\"Max Depth\")\n",
    "plt.ylabel(\"Accuracy Score\")\n",
    "plt.title(\"Validation Curve, Decision Tree Model\")\n",
    "plt.legend();\n",
    "\n",
    "# sample output: refer to Figure 3.6\n",
    "# Insights:"
   ]
  },
  {
   "cell_type": "code",
   "execution_count": null,
   "id": "9e84d0c2-899d-4511-af9f-19bf3a2f401d",
   "metadata": {},
   "outputs": [],
   "source": [
    "# build & fit again\n",
    "final_model_dt = make_pipeline(\n",
    "    OrdinalEncoder(), \n",
    "    DecisionTreeClassifier(max_depth=10, random_state=42)\n",
    ")\n",
    "# Fit model to training data\n",
    "final_model_dt.fit(X, y)    #final_model_dt.fit(X_train, y_train)"
   ]
  },
  {
   "cell_type": "markdown",
   "id": "0cd71c90-a4a6-48b4-9032-b4845469821f",
   "metadata": {},
   "source": [
    "### Evaluate"
   ]
  },
  {
   "cell_type": "code",
   "execution_count": null,
   "id": "c8adb8d4-9c84-4367-a59b-5be54c070206",
   "metadata": {},
   "outputs": [],
   "source": [
    "# test type 1\n",
    "X_test = pd.read_csv(\"data/kavrepalanchok-test-features.csv\", index_col=\"b_id\")\n",
    "y_test_pred = pd.Series(final_model_dt.predict(X_test))\n",
    "y_test_pred[:5]\n",
    "\n",
    "# sample output\n",
    "0    1\n",
    "1    1\n",
    "2    0\n",
    "3    1\n",
    "4    0\n",
    "dtype: int64\n",
    "\n",
    "\n",
    "# test type 2\n",
    "test_acc = model.score(X_test, y_test)\n",
    "print(\"Test Accuracy:\", round(test_acc, 2))\n",
    "  \n",
    "# sample output\n",
    "Test Accuracy: 0.72\n",
    "    \n",
    "\n",
    "# test type 3\n",
    "acc_train = accuracy_score(y_train, model_lr.predict(X_train))\n",
    "acc_test = model_lr.score(X_test, y_test)\n",
    "\n",
    "print(\"LR Training Accuracy:\", acc_train)\n",
    "print(\"LR Validation Accuracy:\", acc_test)\n",
    "\n",
    "# sample output\n",
    "LR Training Accuracy: 0.717985042664646\n",
    "LR Validation Accuracy: 0.7218817948211109"
   ]
  },
  {
   "cell_type": "markdown",
   "id": "7af8a9e9-33ce-4cd5-84c9-73da5bd6304e",
   "metadata": {},
   "source": [
    "## Communicate"
   ]
  },
  {
   "cell_type": "code",
   "execution_count": null,
   "id": "ac71b8ef-fc91-4086-b739-bfbf4fc3e86d",
   "metadata": {},
   "outputs": [],
   "source": [
    "# DECISION TREE\n",
    "features = X_train.columns\n",
    "importances = <yourModel eg final_model_dt>.named_steps[\"decisiontreeclassifier\"].feature_importances_\n",
    "feat_imp = pd.Series(importances, index=features).sort_values()\n",
    "feat_imp.head()\n",
    "\n",
    "# sample output\n",
    "plan_configuration        0.004032\n",
    "position                  0.007129\n",
    "land_surface_condition    0.008241\n",
    "ground_floor_type         0.009741\n",
    "foundation_type           0.010620\n",
    "dtype: float64\n",
    "\n",
    "\n",
    "# LOGISTIC REG\n",
    "features = model_lr.named_steps[\"onehotencoder\"].get_feature_names()\n",
    "importances = model_lr.named_steps[\"logisticregression\"].coef_[0]\n",
    "feat_imp = pd.Series(np.exp(importances), index=features).sort_values()\n",
    "feat_imp.head()\n",
    "\n",
    "# sample output\n",
    "superstructure_Brick, cement mortar    0.345719\n",
    "foundation_type_RC                     0.364478\n",
    "roof_type_RCC/RB/RBC                   0.415979\n",
    "ground_floor_type_RC                   0.527756\n",
    "caste_household_Kumal                  0.543642\n",
    "dtype: float64"
   ]
  },
  {
   "cell_type": "code",
   "execution_count": null,
   "id": "c4369255-8d01-4cbc-946f-cbb99b0b435d",
   "metadata": {},
   "outputs": [],
   "source": [
    "# horizontal bar chart of feature importances\n",
    "feat_imp.plot(kind=\"barh\")\n",
    "plt.xlabel(\"importance\")\n",
    "plt.ylabel(\"Label\")\n",
    "plt.title(\"Feature Importance\");\n",
    "\n",
    "# sample output: refer to Figure 3.7\n",
    "# insights:"
   ]
  }
 ],
 "metadata": {
  "kernelspec": {
   "display_name": "Python 3 (ipykernel)",
   "language": "python",
   "name": "python3"
  },
  "language_info": {
   "codemirror_mode": {
    "name": "ipython",
    "version": 3
   },
   "file_extension": ".py",
   "mimetype": "text/x-python",
   "name": "python",
   "nbconvert_exporter": "python",
   "pygments_lexer": "ipython3",
   "version": "3.9.7"
  }
 },
 "nbformat": 4,
 "nbformat_minor": 5
}
